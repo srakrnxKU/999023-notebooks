{
 "cells": [
  {
   "cell_type": "markdown",
   "metadata": {},
   "source": [
    "# Simulate Tram Display"
   ]
  },
  {
   "cell_type": "code",
   "execution_count": 1,
   "metadata": {},
   "outputs": [],
   "source": [
    "import tramset\n",
    "import time\n",
    "from ipywidgets import widgets\n",
    "\n",
    "api_ip = \"https://kutram.herokuapp.com\"\n",
    "\n",
    "trams = {i: tramset.Tram(i, api_ip) for i in range(1, 8)}"
   ]
  },
  {
   "cell_type": "code",
   "execution_count": 2,
   "metadata": {},
   "outputs": [],
   "source": [
    "def reset(button):\n",
    "    print(\"Hiding all trams\")\n",
    "    for i, tram in trams.items():\n",
    "        tram.update_time(16)\n",
    "    print(\"All trams hidden\")\n",
    "\n",
    "def simulate(button):\n",
    "    print(\"Starting show\")\n",
    "    reset(None)\n",
    "    time.sleep(1)\n",
    "    updates = [[1, 12], [3, 3], [5, 7], [6, 14], [3, 17]]\n",
    "    for i in range(20):\n",
    "        print(updates)\n",
    "        for i in range(len(updates)):\n",
    "            trams[updates[i][0]].update_time(updates[i][1])\n",
    "            updates[i][1] -= 1\n",
    "            if updates[i][1] <= 0:\n",
    "                updates[i][1] = 30\n",
    "        time.sleep(60)\n",
    "    print(\"Show end\")"
   ]
  },
  {
   "cell_type": "code",
   "execution_count": 3,
   "metadata": {
    "scrolled": true
   },
   "outputs": [
    {
     "data": {
      "application/vnd.jupyter.widget-view+json": {
       "model_id": "951529172e3b45f58cdec6ba9d76e499",
       "version_major": 2,
       "version_minor": 0
      },
      "text/plain": [
       "Button(description='Reset display', style=ButtonStyle())"
      ]
     },
     "metadata": {},
     "output_type": "display_data"
    },
    {
     "data": {
      "application/vnd.jupyter.widget-view+json": {
       "model_id": "02176dcba7a54a79ad2cc9c3c256bd6f",
       "version_major": 2,
       "version_minor": 0
      },
      "text/plain": [
       "Button(description='Start simulation', style=ButtonStyle())"
      ]
     },
     "metadata": {},
     "output_type": "display_data"
    },
    {
     "name": "stdout",
     "output_type": "stream",
     "text": [
      "Hiding all trams\n",
      "All trams hidden\n"
     ]
    }
   ],
   "source": [
    "rst_button = widgets.Button(description=\"Reset display\")\n",
    "rst_button.on_click(reset)\n",
    "display(rst_button)\n",
    "\n",
    "sim_button = widgets.Button(description=\"Start simulation\")\n",
    "sim_button.on_click(simulate)\n",
    "display(sim_button)"
   ]
  }
 ],
 "metadata": {
  "kernelspec": {
   "display_name": "Python 3",
   "language": "python",
   "name": "python3"
  },
  "language_info": {
   "codemirror_mode": {
    "name": "ipython",
    "version": 3
   },
   "file_extension": ".py",
   "mimetype": "text/x-python",
   "name": "python",
   "nbconvert_exporter": "python",
   "pygments_lexer": "ipython3",
   "version": "3.6.7"
  }
 },
 "nbformat": 4,
 "nbformat_minor": 2
}
