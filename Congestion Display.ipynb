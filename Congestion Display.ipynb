{
 "cells": [
  {
   "cell_type": "markdown",
   "metadata": {},
   "source": [
    "# Enable/Disable Congestion at Satit Kaset"
   ]
  },
  {
   "cell_type": "code",
   "execution_count": 1,
   "metadata": {},
   "outputs": [],
   "source": [
    "import tramset\n",
    "import time\n",
    "from ipywidgets import widgets\n",
    "\n",
    "api_ip = \"https://kutram.herokuapp.com\"\n",
    "\n",
    "line_2 = tramset.Line(2, api_ip)\n",
    "line_3 = tramset.Line(3, api_ip)\n",
    "alert = tramset.Alert(api_ip)"
   ]
  },
  {
   "cell_type": "code",
   "execution_count": 2,
   "metadata": {},
   "outputs": [],
   "source": [
    "def enable_congestion(button):\n",
    "    alert.show(\"การจราจรหน้าสาธิตเกษตรคับคั่ง โปรดเผื่อเวลา\")\n",
    "    line_2.congestion(True)\n",
    "    line_3.congestion(True)\n",
    "    \n",
    "def disable_congestion(button):\n",
    "    alert.hide()\n",
    "    line_2.congestion(False)\n",
    "    line_3.congestion(False)"
   ]
  },
  {
   "cell_type": "code",
   "execution_count": 3,
   "metadata": {},
   "outputs": [
    {
     "data": {
      "application/vnd.jupyter.widget-view+json": {
       "model_id": "83d88c072d714c84a4e51b03aea22b24",
       "version_major": 2,
       "version_minor": 0
      },
      "text/plain": [
       "Button(description='Show congestion', style=ButtonStyle())"
      ]
     },
     "metadata": {},
     "output_type": "display_data"
    },
    {
     "data": {
      "application/vnd.jupyter.widget-view+json": {
       "model_id": "931ca4bbd45b4d2082ce341d2491f952",
       "version_major": 2,
       "version_minor": 0
      },
      "text/plain": [
       "Button(description='Hide congestion', style=ButtonStyle())"
      ]
     },
     "metadata": {},
     "output_type": "display_data"
    }
   ],
   "source": [
    "on_button = widgets.Button(description=\"Show congestion\")\n",
    "on_button.on_click(enable_congestion)\n",
    "display(on_button)\n",
    "\n",
    "off_button = widgets.Button(description=\"Hide congestion\")\n",
    "off_button.on_click(disable_congestion)\n",
    "display(off_button)"
   ]
  }
 ],
 "metadata": {
  "kernelspec": {
   "display_name": "Python 3",
   "language": "python",
   "name": "python3"
  },
  "language_info": {
   "codemirror_mode": {
    "name": "ipython",
    "version": 3
   },
   "file_extension": ".py",
   "mimetype": "text/x-python",
   "name": "python",
   "nbconvert_exporter": "python",
   "pygments_lexer": "ipython3",
   "version": "3.6.7"
  }
 },
 "nbformat": 4,
 "nbformat_minor": 2
}
